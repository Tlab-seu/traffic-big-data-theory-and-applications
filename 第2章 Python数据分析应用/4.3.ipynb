{
 "cells": [
  {
   "cell_type": "code",
   "execution_count": 1,
   "id": "c8091624",
   "metadata": {},
   "outputs": [
    {
     "name": "stderr",
     "output_type": "stream",
     "text": [
      "BokehDeprecationWarning: 'legend' keyword is deprecated, use explicit 'legend_label', 'legend_field', or 'legend_group' keywords instead\n",
      "BokehDeprecationWarning: 'legend' keyword is deprecated, use explicit 'legend_label', 'legend_field', or 'legend_group' keywords instead\n",
      "BokehDeprecationWarning: 'legend' keyword is deprecated, use explicit 'legend_label', 'legend_field', or 'legend_group' keywords instead\n"
     ]
    }
   ],
   "source": [
    "\n",
    "#%%\n",
    "from bokeh.plotting import figure  \n",
    "from bokeh.io import output_notebook, show\n",
    "import numpy as np\n",
    "import pandas as pd \n",
    "data_all = pd.read_csv('DATASET-B.csv')  \n",
    "data_20161101_02 = data_all[(data_all['date']==20161101) | (data_all['date']==20161102)]    \n",
    "data = data_20161101_02[(data_20161101_02['date']==20161101) & (data_20161101_02['time_id']==50)]    \n",
    "data = data.reset_index(drop=True)\n",
    "data['stop_or_not'] = data['stopNum'].apply(lambda x: 0 if x==0 else 1)   \n",
    "data['volume_CATE'] = data['volume']//5 \n",
    "grouped = data.groupby('volume_CATE')  \n",
    "speed = grouped.aveSpeed\n",
    "stop = list(grouped.groups) \n",
    "avg, std = speed.mean(), speed.std()  \n",
    "stop_0 = data[data['stop_or_not']==0]  \n",
    "stop_1 = data[data['stop_or_not']==1]  \n",
    "p = figure(x_axis_label='流量', y_axis_label='速度')  \n",
    "p.vbar(x=stop, bottom=avg-std, top=avg+std, width=0.8,   \n",
    "       fill_alpha=0.2, line_color=None, legend=\"平均速度 标准差\")  \n",
    "p.circle(x=stop_0[\"volume_CATE\"], y=stop_0[\"aveSpeed\"], size=5, alpha=0.8,  \n",
    "        color=(73,132,175), legend=\"停车次数为0\")  \n",
    "p.square(x=stop_1[\"volume_CATE\"], y=stop_1[\"aveSpeed\"], size=5, alpha=0.8,  \n",
    "        color=(255,132,23), legend=\"停车次数不为0\")  \n",
    "p.legend.location = \"top_left\"  \n",
    "show(p)"
   ]
  },
  {
   "cell_type": "code",
   "execution_count": 6,
   "id": "c35359a2",
   "metadata": {},
   "outputs": [],
   "source": [
    "from bokeh.models import ColumnDataSource  \n",
    "from bokeh.layouts import gridplot    \n",
    "source = ColumnDataSource(data)  \n",
    "options = dict(plot_width=300, plot_height=300,  \n",
    "               tools=\"pan,wheel_zoom,box_zoom,box_select,lasso_select\")  \n",
    "p1 = figure(title=\"流量 vs. 平均速度\", **options,  \n",
    "            x_axis_label='流量', y_axis_label='平均速度')  \n",
    "p1.circle(\"volume\", \"aveSpeed\", color=(73,132,175), source=source)  \n",
    "p2 = figure(title=\"流量 vs. 平均加速度\", **options,  \n",
    "            x_axis_label='流量', y_axis_label='平均加速度')  \n",
    "p2.circle(\"volume\", \"gridAcc\", color=\"cadetblue\", source=source)   \n",
    "p3 = figure(title=\"平均速度 vs. 平均加速度\", **options,  \n",
    "            x_axis_label='平均速度', y_axis_label='平均加速度')  \n",
    "p3.circle(\"aveSpeed\", \"gridAcc\", color=(255,132,23), fill_color=None, source=source)   \n",
    "p = gridplot([[ p1, p2, p3]], toolbar_location=\"right\")  \n",
    "show(p)  "
   ]
  },
  {
   "cell_type": "code",
   "execution_count": null,
   "id": "6ed337c7",
   "metadata": {},
   "outputs": [],
   "source": []
  }
 ],
 "metadata": {
  "kernelspec": {
   "display_name": "Python 3",
   "language": "python",
   "name": "python3"
  },
  "language_info": {
   "codemirror_mode": {
    "name": "ipython",
    "version": 3
   },
   "file_extension": ".py",
   "mimetype": "text/x-python",
   "name": "python",
   "nbconvert_exporter": "python",
   "pygments_lexer": "ipython3",
   "version": "3.7.9"
  }
 },
 "nbformat": 4,
 "nbformat_minor": 5
}
