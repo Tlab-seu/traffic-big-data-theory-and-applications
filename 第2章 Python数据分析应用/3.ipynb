{
 "cells": [
  {
   "cell_type": "code",
   "execution_count": 1,
   "id": "f65ca0f1",
   "metadata": {},
   "outputs": [
    {
     "name": "stdout",
     "output_type": "stream",
     "text": [
      "     timestamp         lon        lat  time_interval\n",
      "0   1477964431  104.083327  30.659715            NaN\n",
      "1   1477964434  104.083408  30.659839            3.0\n",
      "2   1477964437  104.083610  30.660192            3.0\n",
      "3   1477964440  104.083733  30.660382            3.0\n",
      "4   1477964446  104.083976  30.660822            6.0\n",
      "5   1477964449  104.084126  30.661081            3.0\n",
      "6   1477964452  104.084254  30.661235            3.0\n",
      "7   1477964455  104.084411  30.661533            3.0\n",
      "8   1477964458  104.084543  30.661773            3.0\n",
      "9   1477964461  104.084758  30.662083            3.0\n",
      "10  1477964464  104.084903  30.662363            3.0\n",
      "11  1477964467  104.085053  30.662587            3.0\n",
      "12  1477964470  104.085194  30.662790            3.0\n",
      "13  1477964473  104.085251  30.662956            3.0\n",
      "14  1477964476  104.085394  30.663195            3.0\n",
      "[4]\n"
     ]
    },
    {
     "ename": "TypeError",
     "evalue": "__init__() got an unexpected keyword argument 'ignore_index'",
     "output_type": "error",
     "traceback": [
      "\u001b[1;31m---------------------------------------------------------------------------\u001b[0m",
      "\u001b[1;31mTypeError\u001b[0m                                 Traceback (most recent call last)",
      "\u001b[1;32m<ipython-input-1-af9aeba58a60>\u001b[0m in \u001b[0;36m<module>\u001b[1;34m\u001b[0m\n\u001b[0;32m     15\u001b[0m \u001b[1;32mfor\u001b[0m \u001b[0mi\u001b[0m \u001b[1;32min\u001b[0m \u001b[0mindex\u001b[0m\u001b[1;33m:\u001b[0m\u001b[1;33m\u001b[0m\u001b[1;33m\u001b[0m\u001b[0m\n\u001b[0;32m     16\u001b[0m     \u001b[0mtimestamp\u001b[0m \u001b[1;33m=\u001b[0m \u001b[0mtraj\u001b[0m\u001b[1;33m[\u001b[0m\u001b[1;34m'timestamp'\u001b[0m\u001b[1;33m]\u001b[0m\u001b[1;33m.\u001b[0m\u001b[0mloc\u001b[0m\u001b[1;33m[\u001b[0m\u001b[0mi\u001b[0m\u001b[1;33m-\u001b[0m\u001b[1;36m1\u001b[0m\u001b[1;33m]\u001b[0m \u001b[1;33m+\u001b[0m \u001b[1;36m3\u001b[0m    \u001b[1;31m#第4组数据与第三组数据间隔过长，需要插入新数据\u001b[0m\u001b[1;33m\u001b[0m\u001b[1;33m\u001b[0m\u001b[0m\n\u001b[1;32m---> 17\u001b[1;33m     \u001b[0minsertRow\u001b[0m \u001b[1;33m=\u001b[0m \u001b[0mpd\u001b[0m\u001b[1;33m.\u001b[0m\u001b[0mDataFrame\u001b[0m\u001b[1;33m(\u001b[0m\u001b[1;33m[\u001b[0m\u001b[1;33m[\u001b[0m\u001b[0mnp\u001b[0m\u001b[1;33m.\u001b[0m\u001b[0mnan\u001b[0m\u001b[1;33m,\u001b[0m \u001b[0mnp\u001b[0m\u001b[1;33m.\u001b[0m\u001b[0mnan\u001b[0m\u001b[1;33m,\u001b[0m \u001b[0mtimestamp\u001b[0m\u001b[1;33m]\u001b[0m\u001b[1;33m]\u001b[0m\u001b[1;33m,\u001b[0m \u001b[0mignore_index\u001b[0m\u001b[1;33m=\u001b[0m\u001b[1;32mTrue\u001b[0m\u001b[1;33m,\u001b[0m \u001b[0mcolumns\u001b[0m\u001b[1;33m=\u001b[0m\u001b[1;33m[\u001b[0m\u001b[1;34m'lon'\u001b[0m\u001b[1;33m,\u001b[0m \u001b[1;34m'lat'\u001b[0m\u001b[1;33m,\u001b[0m \u001b[1;34m'timestamp'\u001b[0m\u001b[1;33m]\u001b[0m\u001b[1;33m)\u001b[0m\u001b[1;33m\u001b[0m\u001b[1;33m\u001b[0m\u001b[0m\n\u001b[0m\u001b[0;32m     18\u001b[0m     \u001b[0mprint\u001b[0m\u001b[1;33m(\u001b[0m\u001b[0minsertRow\u001b[0m\u001b[1;33m)\u001b[0m\u001b[1;33m\u001b[0m\u001b[1;33m\u001b[0m\u001b[0m\n\u001b[0;32m     19\u001b[0m     \u001b[0mtraj\u001b[0m \u001b[1;33m=\u001b[0m \u001b[0mpd\u001b[0m\u001b[1;33m.\u001b[0m\u001b[0mconcat\u001b[0m\u001b[1;33m(\u001b[0m\u001b[1;33m[\u001b[0m\u001b[0mtraj\u001b[0m\u001b[1;33m[\u001b[0m\u001b[1;33m:\u001b[0m\u001b[0mi\u001b[0m\u001b[1;33m]\u001b[0m\u001b[1;33m,\u001b[0m \u001b[0minsertRow\u001b[0m\u001b[1;33m,\u001b[0m \u001b[0mtraj\u001b[0m\u001b[1;33m[\u001b[0m\u001b[0mi\u001b[0m\u001b[1;33m:\u001b[0m\u001b[1;33m]\u001b[0m\u001b[1;33m]\u001b[0m\u001b[1;33m)\u001b[0m\u001b[1;33m\u001b[0m\u001b[1;33m\u001b[0m\u001b[0m\n",
      "\u001b[1;31mTypeError\u001b[0m: __init__() got an unexpected keyword argument 'ignore_index'"
     ]
    }
   ],
   "source": [
    "import pandas as pd   \n",
    "import numpy as np   \n",
    "# 拉格朗日插值        \n",
    "from scipy.interpolate import lagrange  #scipy.interpolate是内置工具包        \n",
    "def ploy (s,n,k=5):        \n",
    "    y=s[list(range(n-k,n))+list(range(n+1,n+1+k))] #取出插值位置前后k个数据  \n",
    "    y=y[y.notnull()]  #剔除空值      \n",
    "    return lagrange(y.index,list(y))(n)  \n",
    "traj = pd.read_csv('DATASET-A.csv', usecols=[2,3,4]).iloc[:15]  \n",
    "\n",
    "traj['time_interval'] = traj['timestamp'] - traj['timestamp'].shift(1)    \n",
    "index = traj[traj['time_interval'] >=6].index.to_list() \n",
    "print(traj)\n",
    "print(index)\n",
    "for i in index:    \n",
    "    timestamp = traj['timestamp'].loc[i-1] + 3    #第4组数据与第三组数据间隔过长，需要插入新数据\n",
    "    insertRow = pd.DataFrame([[np.nan, np.nan, timestamp]], ignore_index=True, columns=['lon', 'lat', 'timestamp'])    \n",
    "    print(insertRow)\n",
    "    traj = pd.concat([traj[:i], insertRow, traj[i:]])   \n",
    "    print(traj)\n",
    "    traj['lon'][i]=ploy(traj['lon'],i)    \n",
    "    traj['lat'][i]=ploy(traj['lat'],i)    \n",
    "traj = traj.drop(['time_interval'], axis=1)"
   ]
  },
  {
   "cell_type": "code",
   "execution_count": 4,
   "id": "421b37ae",
   "metadata": {},
   "outputs": [
    {
     "name": "stdout",
     "output_type": "stream",
     "text": [
      "1477958400.0 1477962000.0\n",
      "       driver_id  order_id   timestamp         lon        lat\n",
      "0             42       844  1477993231  104.083327  30.659715\n",
      "1             42       844  1477993234  104.083408  30.659839\n",
      "2             42       844  1477993237  104.083610  30.660192\n",
      "3             42       844  1477993240  104.083733  30.660382\n",
      "4             42       844  1477993246  104.083976  30.660822\n",
      "...          ...       ...         ...         ...        ...\n",
      "17082         39       769  1477987603  104.071196  30.662970\n",
      "17083         39       769  1477987606  104.071224  30.662995\n",
      "17084         39       769  1477987609  104.071194  30.663006\n",
      "17085         39       769  1477987612  104.071213  30.662999\n",
      "17086         39       769  1477987613  104.071203  30.662997\n",
      "\n",
      "[17087 rows x 5 columns]\n",
      "Empty DataFrame\n",
      "Columns: [driver_id, order_id, timestamp, lon, lat]\n",
      "Index: []\n",
      "Empty DataFrame\n",
      "Columns: [driver_id, order_id, timestamp, lon, lat]\n",
      "Index: []\n"
     ]
    }
   ],
   "source": [
    "from utm import *    \n",
    "from tqdm import tqdm, tqdm_pandas\n",
    "import pandas as pd\n",
    "import numpy as np\n",
    "import time \n",
    "time1 = '20161101 08:00:00'    \n",
    "time2 = '20161101 09:00:00'\n",
    "stamp1 = time.mktime(time.strptime(time1, \"%Y%m%d %H:%M:%S\")) \n",
    "stamp2 = time.mktime(time.strptime(time2, \"%Y%m%d %H:%M:%S\"))\n",
    "df = pd.read_csv('DATASET-A.csv')  \n",
    "df.columns=['driver_id', 'order_id', 'timestamp', 'lon', 'lat']\n",
    "print(stamp1,stamp2)\n",
    "\n",
    "# 转换为utc+8时区\n",
    "df.timestamp = df.timestamp + 8 * 3600\n",
    "print(df)\n",
    "df = df[(df['timestamp'] >= stamp1) & (df['timestamp'] < stamp2)].reset_index(drop=True)\n",
    "print (df)\n",
    "print (df.head(10))\n"
   ]
  },
  {
   "cell_type": "code",
   "execution_count": 9,
   "id": "3897dec7",
   "metadata": {},
   "outputs": [
    {
     "name": "stdout",
     "output_type": "stream",
     "text": [
      "Collecting osr\n",
      "  Downloading OSR-0.0.1.tar.gz (4.7 kB)\n"
     ]
    },
    {
     "name": "stderr",
     "output_type": "stream",
     "text": [
      "    ERROR: Command errored out with exit status 1:\n",
      "     command: 'D:\\Anaconda3\\envs\\Python37\\python.exe' -c 'import sys, setuptools, tokenize; sys.argv[0] = '\"'\"'D:\\\\TEMP\\\\pip-install-01djauja\\\\osr_be020f613e334416839e453d3da666cf\\\\setup.py'\"'\"'; __file__='\"'\"'D:\\\\TEMP\\\\pip-install-01djauja\\\\osr_be020f613e334416839e453d3da666cf\\\\setup.py'\"'\"';f=getattr(tokenize, '\"'\"'open'\"'\"', open)(__file__);code=f.read().replace('\"'\"'\\r\\n'\"'\"', '\"'\"'\\n'\"'\"');f.close();exec(compile(code, __file__, '\"'\"'exec'\"'\"'))' egg_info --egg-base 'D:\\TEMP\\pip-pip-egg-info-eisxo5zu'\n",
      "         cwd: D:\\TEMP\\pip-install-01djauja\\osr_be020f613e334416839e453d3da666cf\\\n",
      "    Complete output (37 lines):\n",
      "    WARNING: Retrying (Retry(total=4, connect=None, read=None, redirect=None, status=None)) after connection broken by 'ProxyError('Cannot connect to proxy.', OSError(0, 'Error'))': /simple/filetype/\n",
      "    WARNING: Retrying (Retry(total=3, connect=None, read=None, redirect=None, status=None)) after connection broken by 'ProxyError('Cannot connect to proxy.', OSError(0, 'Error'))': /simple/filetype/\n",
      "    WARNING: Retrying (Retry(total=2, connect=None, read=None, redirect=None, status=None)) after connection broken by 'ProxyError('Cannot connect to proxy.', OSError(0, 'Error'))': /simple/filetype/\n",
      "    WARNING: Retrying (Retry(total=1, connect=None, read=None, redirect=None, status=None)) after connection broken by 'ProxyError('Cannot connect to proxy.', OSError(0, 'Error'))': /simple/filetype/\n",
      "    WARNING: Retrying (Retry(total=0, connect=None, read=None, redirect=None, status=None)) after connection broken by 'ProxyError('Cannot connect to proxy.', OSError(0, 'Error'))': /simple/filetype/\n",
      "    ERROR: Could not find a version that satisfies the requirement filetype<2.0.0,>=1.0.7\n",
      "    ERROR: No matching distribution found for filetype<2.0.0,>=1.0.7\n",
      "    Traceback (most recent call last):\n",
      "      File \"D:\\Anaconda3\\envs\\Python37\\lib\\site-packages\\setuptools\\installer.py\", line 126, in fetch_build_egg\n",
      "        subprocess.check_call(cmd)\n",
      "      File \"D:\\Anaconda3\\envs\\Python37\\lib\\subprocess.py\", line 363, in check_call\n",
      "        raise CalledProcessError(retcode, cmd)\n",
      "    subprocess.CalledProcessError: Command '['D:\\\\Anaconda3\\\\envs\\\\Python37\\\\python.exe', '-m', 'pip', '--disable-pip-version-check', 'wheel', '--no-deps', '-w', 'D:\\\\TEMP\\\\tmphkz95ntg', '--quiet', 'filetype<2.0.0,>=1.0.7']' returned non-zero exit status 1.\n",
      "    \n",
      "    The above exception was the direct cause of the following exception:\n",
      "    \n",
      "    Traceback (most recent call last):\n",
      "      File \"<string>\", line 1, in <module>\n",
      "      File \"D:\\TEMP\\pip-install-01djauja\\osr_be020f613e334416839e453d3da666cf\\setup.py\", line 13, in <module>\n",
      "        \"eyeD3 >=0.6.18\"],\n",
      "      File \"D:\\Anaconda3\\envs\\Python37\\lib\\site-packages\\setuptools\\__init__.py\", line 152, in setup\n",
      "        _install_setup_requires(attrs)\n",
      "      File \"D:\\Anaconda3\\envs\\Python37\\lib\\site-packages\\setuptools\\__init__.py\", line 147, in _install_setup_requires\n",
      "        dist.fetch_build_eggs(dist.setup_requires)\n",
      "      File \"D:\\Anaconda3\\envs\\Python37\\lib\\site-packages\\setuptools\\dist.py\", line 676, in fetch_build_eggs\n",
      "        replace_conflicting=True,\n",
      "      File \"D:\\Anaconda3\\envs\\Python37\\lib\\site-packages\\pkg_resources\\__init__.py\", line 766, in resolve\n",
      "        replace_conflicting=replace_conflicting\n",
      "      File \"D:\\Anaconda3\\envs\\Python37\\lib\\site-packages\\pkg_resources\\__init__.py\", line 1049, in best_match\n",
      "        return self.obtain(req, installer)\n",
      "      File \"D:\\Anaconda3\\envs\\Python37\\lib\\site-packages\\pkg_resources\\__init__.py\", line 1061, in obtain\n",
      "        return installer(requirement)\n",
      "      File \"D:\\Anaconda3\\envs\\Python37\\lib\\site-packages\\setuptools\\dist.py\", line 732, in fetch_build_egg\n",
      "        return fetch_build_egg(self, req)\n",
      "      File \"D:\\Anaconda3\\envs\\Python37\\lib\\site-packages\\setuptools\\installer.py\", line 128, in fetch_build_egg\n",
      "        raise DistutilsError(str(e)) from e\n",
      "    distutils.errors.DistutilsError: Command '['D:\\\\Anaconda3\\\\envs\\\\Python37\\\\python.exe', '-m', 'pip', '--disable-pip-version-check', 'wheel', '--no-deps', '-w', 'D:\\\\TEMP\\\\tmphkz95ntg', '--quiet', 'filetype<2.0.0,>=1.0.7']' returned non-zero exit status 1.\n",
      "    ----------------------------------------\n",
      "ERROR: Command errored out with exit status 1: python setup.py egg_info Check the logs for full command output.\n"
     ]
    }
   ],
   "source": [
    "!pip install osr"
   ]
  },
  {
   "cell_type": "code",
   "execution_count": 10,
   "id": "c6bd9c82",
   "metadata": {},
   "outputs": [
    {
     "name": "stdout",
     "output_type": "stream",
     "text": [
      "count    280.000000\n",
      "mean      11.198390\n",
      "std        4.324579\n",
      "min        2.971443\n",
      "25%        7.873805\n",
      "50%       11.523610\n",
      "75%       14.688217\n",
      "max       18.483186\n",
      "range     15.511743\n",
      "var        0.386179\n",
      "dis        6.814412\n",
      "Name: aveSpeed, dtype: float64\n"
     ]
    }
   ],
   "source": [
    "import pandas as pd \n",
    "data = pd.read_csv('DATASET-B.csv')\n",
    "data_speed = data[(data['date']==20161101) & (data['time_id']==0)]['aveSpeed']\n",
    "statistics = data_speed.describe()#保存基本统计量      \n",
    "statistics.loc['range']=statistics.loc['max']-statistics.loc['min']#极差 \n",
    "statistics.loc['var']=statistics.loc['std']/statistics.loc['mean']#变异系数  \n",
    "statistics.loc['dis']=statistics.loc['75%']-statistics.loc['25%']#四分位数间距 \n",
    "print (statistics)\n",
    "statistics.to_csv('statistics.csv')"
   ]
  },
  {
   "cell_type": "code",
   "execution_count": 12,
   "id": "58e9a7d6",
   "metadata": {},
   "outputs": [
    {
     "name": "stdout",
     "output_type": "stream",
     "text": [
      "        date  volume  day\n",
      "0   20161101   16598    2\n",
      "1   20161102   17873    3\n",
      "2   20161103   18608    4\n",
      "3   20161104   20113    5\n",
      "4   20161105   16702    6\n",
      "5   20161106   12277    7\n",
      "6   20161107   15546    1\n",
      "7   20161108   19145    2\n",
      "8   20161109   18398    3\n",
      "9   20161110   19217    4\n",
      "10  20161111   20131    5\n",
      "11  20161112   15823    6\n",
      "12  20161113   11538    7\n",
      "13  20161114   19187    1\n",
      "14  20161115   19882    2\n",
      "15  20161116   19823    3\n",
      "16  20161117   20493    4\n",
      "17  20161118   24822    5\n",
      "18  20161119   16425    6\n",
      "19  20161120   13750    7\n",
      "20  20161121   19364    1\n",
      "21  20161122   22212    2\n",
      "22  20161123   19916    3\n",
      "23  20161124   22247    4\n",
      "24  20161125   21261    5\n",
      "25  20161126   16216    6\n",
      "26  20161127   14761    7\n",
      "27  20161128   22406    1\n",
      "28  20161129   22582    2\n",
      "29  20161130   21565    3\n"
     ]
    }
   ],
   "source": [
    "import pandas as pd\n",
    "data = pd.read_csv('DATASET-B.csv')\n",
    "data_vol = data[data['time_id']==50].groupby(['date'])['volume'].sum()\n",
    "df = pd.DataFrame(data_vol)\n",
    "df = df.reset_index(drop=False)\n",
    "\n",
    "from datetime import datetime\n",
    "df['day'] = df['date'].apply(lambda x: datetime.strptime(str(x), \"%Y%m%d\").weekday()+1)\n",
    "# weekday()函数返回值：周一为0，周日为6\n",
    "print(df)"
   ]
  },
  {
   "cell_type": "code",
   "execution_count": 23,
   "id": "7fcd5fe4",
   "metadata": {},
   "outputs": [
    {
     "data": {
      "image/png": "[encoded data removed]",
      "text/plain": [
       "<Figure size 640x480 with 1 Axes>"
      ]
     },
     "metadata": {},
     "output_type": "display_data"
    }
   ],
   "source": [
    "import numpy as np    \n",
    "import pandas as pd    \n",
    "import matplotlib.pyplot as plt    \n",
    "import seaborn as sns    \n",
    "\n",
    "plt.rcParams['axes.unicode_minus'] = False    \n",
    "plt.rcParams['font.sans-serif'] = 'SimHei'   \n",
    "\n",
    "x = np.arange(0,30)\n",
    "plt.plot(x, df['volume'],marker='o', markersize=4)    \n",
    "plt.xlabel('日期')      \n",
    "plt.ylabel('流量')   \n",
    "plt.show()"
   ]
  },
  {
   "cell_type": "code",
   "execution_count": null,
   "id": "9aefad09",
   "metadata": {},
   "outputs": [],
   "source": []
  }
 ],
 "metadata": {
  "kernelspec": {
   "display_name": "Python 3 (ipykernel)",
   "language": "python",
   "name": "python3"
  },
  "language_info": {
   "codemirror_mode": {
    "name": "ipython",
    "version": 3
   },
   "file_extension": ".py",
   "mimetype": "text/x-python",
   "name": "python",
   "nbconvert_exporter": "python",
   "pygments_lexer": "ipython3",
   "version": "3.9.7"
  }
 },
 "nbformat": 4,
 "nbformat_minor": 5
}
