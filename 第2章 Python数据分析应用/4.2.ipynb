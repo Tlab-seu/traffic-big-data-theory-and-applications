{
 "cells": [
  {
   "cell_type": "code",
   "execution_count": 1,
   "id": "52241b08",
   "metadata": {},
   "outputs": [],
   "source": [
    "#%%  \n",
    "#线型图  \n",
    "import numpy as np  \n",
    "import pandas as pd  \n",
    "import matplotlib.pyplot as plt  \n",
    "import seaborn as sns  "
   ]
  },
  {
   "cell_type": "code",
   "execution_count": 2,
   "id": "e8fddfb7",
   "metadata": {},
   "outputs": [],
   "source": [
    "plt.rcParams['axes.unicode_minus'] = False  \n",
    "plt.rcParams['font.sans-serif'] = 'SimHei' \n",
    "data_all = pd.read_csv('DATASET-B.csv')  \n",
    "data_20161101_02 = data_all[(data_all['date']==20161101) | (data_all['date']==20161102)]  \n",
    "fig = plt.figure(figsize=(10,6))  \n",
    "x = np.arange(1, 145)  \n",
    "y1 = data_20161101_02[data_20161101_02['date']==20161101].groupby('time_id')['aveSpeed'].mean()  \n",
    "y2 = data_20161101_02[data_20161101_02['date']==20161102].groupby('time_id')['aveSpeed'].mean()  \n",
    "plt.plot(x, y1, label='20161101')  \n",
    "plt.plot(x, y2, label='20161102')  \n",
    "plt.xticks(np.arange(0,145,20))  \n",
    "plt.legend(fontsize=18, loc='upper right')    \n",
    "plt.tick_params(labelsize=18)    \n",
    "plt.xlabel('时间', fontsize=20)    \n",
    "plt.ylabel('平均速度', fontsize=20)  \n",
    "plt.savefig('线型图') "
   ]
  },
  {
   "cell_type": "code",
   "execution_count": 3,
   "id": "53b32f77",
   "metadata": {},
   "outputs": [],
   "source": [
    "#条形图1%%  \n",
    "data = data_20161101_02[(data_20161101_02['date']==20161101) & (data_20161101_02['time_id']==50)]  \n",
    "data = data.reset_index(drop=True)  \n",
    "data['stop_or_not'] = data['stopNum'].apply(lambda x: 0 if x==0 else 1)  \n",
    "data['volume_CATE'] = data['volume']//5\n",
    "fig = plt.figure(figsize=(10,6))  \n",
    "sns.barplot(x='volume_CATE', y='aveSpeed', data=data, color='#1f77b4')  \n",
    "x_bar = np.arange(11)  \n",
    "y = data_20161101_02[data_20161101_02['date']==20161101].groupby('time_id')['aveSpeed'].mean()  \n",
    "volume = ['0~5','5~10','10~15','15~20','20~25','25~30','30~35','35~40','40~45','45~50','50~55']  \n",
    "plt.xticks(x_bar, volume, rotation=45)  \n",
    "plt.ylim(bottom=3)  \n",
    "plt.tick_params(labelsize=16)   \n",
    "plt.xlabel('流量', fontsize=20)  \n",
    "plt.ylabel('平均速度', fontsize=20) \n",
    "fig.subplots_adjust(bottom=0.2, left=0.1, right=0.9, top=0.9) \n",
    "plt.savefig('条形图1.png') \n"
   ]
  },
  {
   "cell_type": "code",
   "execution_count": 4,
   "id": "8d60e26e",
   "metadata": {},
   "outputs": [],
   "source": [
    "fig = plt.figure(figsize=(10,6))  \n",
    "sns.barplot(x='volume_CATE', y='aveSpeed', data=data, hue=\"stop_or_not\")  \n",
    "plt.ylim(bottom=3)  \n",
    "plt.tick_params(labelsize=18)   \n",
    "plt.xlabel('流量', fontsize=20)  \n",
    "plt.ylabel('平均速度', fontsize=20)  \n",
    "fig.subplots_adjust(bottom=0.2, left=0.1, right=0.9, top=0.9)\n",
    "fig.savefig('条形图2.png') "
   ]
  },
  {
   "cell_type": "code",
   "execution_count": 5,
   "id": "db1db4d7",
   "metadata": {},
   "outputs": [],
   "source": [
    "fig = plt.figure(figsize=(10,6))    \n",
    "sns.countplot(x='volume_CATE', data=data, color='#1f77b4')  \n",
    "x_bar = np.arange(11)    \n",
    "y = data_20161101_02[data_20161101_02['date']==20161101].groupby('time_id')['aveSpeed'].mean()    \n",
    "volume = ['0~5','5~10','10~15','15~20','20~25','25~30','30~35','35~40','40~45','45~50','50~55']  \n",
    "plt.xticks(x_bar, volume, rotation=45)  \n",
    "plt.tick_params(labelsize=16)   \n",
    "plt.xlabel('流量', fontsize=20)  \n",
    "plt.ylabel('频数', fontsize=20)  \n",
    "fig.subplots_adjust(bottom=0.2, left=0.1, right=0.9, top=0.9)\n",
    "fig.savefig('条形图3.png')"
   ]
  },
  {
   "cell_type": "code",
   "execution_count": 6,
   "id": "bfa7010b",
   "metadata": {},
   "outputs": [],
   "source": [
    "x_bar = np.arange(11)  \n",
    "fig = plt.figure(figsize=(10,6))  \n",
    "sns.boxplot(x='volume_CATE', y='aveSpeed', data=data, color='#1f77b4')  \n",
    "plt.xticks(x_bar, volume, rotation=45)  \n",
    "plt.tick_params(labelsize=16)   \n",
    "plt.xlabel('流量', fontsize=20)  \n",
    "plt.ylabel('平均车速', fontsize=20)  \n",
    "fig.subplots_adjust(bottom=0.2, left=0.1, right=0.9, top=0.9)\n",
    "fig.savefig('箱型图.png')  "
   ]
  },
  {
   "cell_type": "code",
   "execution_count": 7,
   "id": "27b206b1",
   "metadata": {},
   "outputs": [],
   "source": [
    "count = data.groupby(by='volume_CATE').size()  \n",
    "fig = plt.figure(figsize=(6,6))\n",
    "plt.pie(x=list(count),\n",
    "        labels=['0~5','5~10','10~15','15~20','20~25','25~30','30~35','35~40','40~45','45~50','50~55'],\n",
    "        explode=[0,0,0,0,0,0,0,0,0,0,0.2], \n",
    "        colors=sns.color_palette('Blues', n_colors=11),   \n",
    "        labeldistance=1.2, autopct='%.2f%%',   \n",
    "        pctdistance=0.8, radius=2,\n",
    "        textprops={'fontsize':20, 'weight':'bold'},shadow=True)  \n",
    "plt.savefig('饼图.png',dpi=200, bbox_inches='tight')"
   ]
  },
  {
   "cell_type": "code",
   "execution_count": 8,
   "id": "0d7c2782",
   "metadata": {},
   "outputs": [],
   "source": [
    "fig = plt.figure(figsize=(10,6))    \n",
    "sns.barplot(x='volume_CATE', y='aveSpeed', data=data, hue=\"stop_or_not\")    \n",
    "plt.ylim(bottom=3)    \n",
    "plt.tick_params(labelsize=18)     \n",
    "plt.xlabel('流量', fontsize=20)    \n",
    "plt.ylabel('平均速度', fontsize=20)    \n",
    "fig.savefig('簇状条形图.png')  "
   ]
  },
  {
   "cell_type": "code",
   "execution_count": 9,
   "id": "af8ab042",
   "metadata": {},
   "outputs": [
    {
     "name": "stderr",
     "output_type": "stream",
     "text": [
      "D:\\Anaconda3\\envs\\Python37\\lib\\site-packages\\seaborn\\distributions.py:2619: FutureWarning: `distplot` is a deprecated function and will be removed in a future version. Please adapt your code to use either `displot` (a figure-level function with similar flexibility) or `histplot` (an axes-level function for histograms).\n",
      "  warnings.warn(msg, FutureWarning)\n"
     ]
    }
   ],
   "source": [
    "fig = plt.figure(figsize=(10,6))  \n",
    "sns.distplot(data['aveSpeed'])  \n",
    "plt.tick_params(labelsize=18)  \n",
    "plt.xlabel('平均速度', fontsize=20)  \n",
    "plt.ylabel('概率', fontsize=20)  \n",
    "fig.savefig('直方图1.png')  "
   ]
  },
  {
   "cell_type": "code",
   "execution_count": 10,
   "id": "f9c65e06",
   "metadata": {},
   "outputs": [
    {
     "name": "stderr",
     "output_type": "stream",
     "text": [
      "D:\\Anaconda3\\envs\\Python37\\lib\\site-packages\\seaborn\\distributions.py:2619: FutureWarning: `distplot` is a deprecated function and will be removed in a future version. Please adapt your code to use either `displot` (a figure-level function with similar flexibility) or `histplot` (an axes-level function for histograms).\n",
      "  warnings.warn(msg, FutureWarning)\n",
      "D:\\Anaconda3\\envs\\Python37\\lib\\site-packages\\seaborn\\distributions.py:2619: FutureWarning: `distplot` is a deprecated function and will be removed in a future version. Please adapt your code to use either `displot` (a figure-level function with similar flexibility) or `histplot` (an axes-level function for histograms).\n",
      "  warnings.warn(msg, FutureWarning)\n"
     ]
    }
   ],
   "source": [
    "#%%      \n",
    "#直方图2    \n",
    "#sns.set(style='whitegrid')      \n",
    "fig = plt.figure(figsize=(10,6))  \n",
    "sns.distplot(data[data['stop_or_not']==0]['aveSpeed'], label='停车次数为0')  \n",
    "sns.distplot(data[data['stop_or_not']==1]['aveSpeed'], label='停车次数不为0')  \n",
    "plt.legend(fontsize=15, loc='upper right')  \n",
    "plt.tick_params(labelsize=18)  \n",
    "plt.xlabel('平均速度', fontsize=20)  \n",
    "plt.ylabel('概率', fontsize=20)  \n",
    "fig.savefig('直方图2.png') "
   ]
  },
  {
   "cell_type": "code",
   "execution_count": 11,
   "id": "92b17507",
   "metadata": {},
   "outputs": [],
   "source": [
    "fig = plt.figure(figsize=(10,6))  \n",
    "plt.scatter(data['aveSpeed'], data['volume'], alpha=0.6)\n",
    "plt.tick_params(labelsize=18)  \n",
    "plt.xlabel('平均速度', fontsize=20)  \n",
    "plt.ylabel('流量', fontsize=20)  \n",
    "fig.savefig('散点图1.png') "
   ]
  },
  {
   "cell_type": "code",
   "execution_count": 13,
   "id": "1a83b132",
   "metadata": {},
   "outputs": [],
   "source": [
    "#%%  \n",
    "#散点图2  \n",
    "#sns.set(style='darkgrid')  \n",
    "# fig = plt.figure(figsize=(10,6))\n",
    "plt.rc('axes', labelsize=20)\n",
    "plt.rc('xtick', labelsize=18)\n",
    "plt.rc('ytick', labelsize=18)\n",
    "fig = sns.jointplot(x='aveSpeed', y='volume', data=data, alpha=0.6)\n",
    "fig.set_axis_labels('平均速度','流量') \n",
    "fig.savefig('散点图2.png')   "
   ]
  },
  {
   "cell_type": "code",
   "execution_count": 14,
   "id": "3568a873",
   "metadata": {},
   "outputs": [],
   "source": [
    "#%%  \n",
    "#散点图3   \n",
    "sns.axes_style(\"white\")  \n",
    "fig = sns.jointplot(x='aveSpeed', y='volume',\n",
    "                        data=data, kind='hex')  \n",
    "fig.set_axis_labels('平均速度','流量')  \n",
    "fig.savefig('散点图3.png')  "
   ]
  },
  {
   "cell_type": "code",
   "execution_count": 26,
   "id": "cf978d9c",
   "metadata": {},
   "outputs": [
    {
     "name": "stdout",
     "output_type": "stream",
     "text": [
      "      流量       平均速度\n",
      "0      9  11.576622\n",
      "1      8  12.369224\n",
      "2      5  13.705880\n",
      "3     27   7.746662\n",
      "4     19   3.418793\n",
      "...   ..        ...\n",
      "1215  16  13.709066\n",
      "1216   6   4.969297\n",
      "1217   6  10.881670\n",
      "1218   1   4.265370\n",
      "1219  10  15.560903\n",
      "\n",
      "[1220 rows x 2 columns]\n"
     ]
    }
   ],
   "source": [
    "data2 = data.copy(deep=True)\n",
    "data2.rename(columns={'volume': '流量', 'aveSpeed': '平均速度', 'gridAcc': '平均加速度'}, inplace=True)  \n",
    "# print(data2[['流量','平均速度','平均加速度']])\n",
    "print(data2[['流量','平均速度']])\n",
    "sns.set_style('white',{'font.sans-serif':['simhei']})  \n",
    "fig = sns.pairplot(data2[['流量','平均速度','平均加速度']])\n",
    "fig.savefig('散点图4.png', dpi=300)  "
   ]
  },
  {
   "cell_type": "code",
   "execution_count": null,
   "id": "e6d7b4ba",
   "metadata": {},
   "outputs": [],
   "source": [
    "tips = sns.load_dataset(\"tips\")    \n",
    "fig = plt.figure(figsize=(10,6))    \n",
    "sns.regplot(x=\"total_bill\", y=\"tip\", data=tips, color='#1f77b4')    \n",
    "plt.xlabel('账单', fontsize=20)    \n",
    "plt.ylabel('小费', fontsize=20)\n",
    "fig.savefig('reg.png') "
   ]
  },
  {
   "cell_type": "code",
   "execution_count": 14,
   "id": "ef31d52f",
   "metadata": {},
   "outputs": [
    {
     "name": "stderr",
     "output_type": "stream",
     "text": [
      "D:\\Anaconda3\\envs\\Python37\\lib\\site-packages\\seaborn\\_decorators.py:43: FutureWarning: Pass the following variable as a keyword arg: x. From version 0.12, the only valid positional argument will be `data`, and passing other arguments without an explicit keyword will result in an error or misinterpretation.\n",
      "  FutureWarning\n"
     ]
    }
   ],
   "source": [
    "#%%\n",
    "#分面图形\n",
    "plt.rc('xtick', labelsize=14)\n",
    "plt.rc('ytick', labelsize=14)\n",
    "fig = sns.catplot('volume_CATE', col='stop_or_not', data=data,       \n",
    "                  kind='count', color='#1f77b4')      \n",
    "fig.set_xticklabels(volume, rotation=45)      \n",
    "fig.set_titles('是否停车: {col_name}')      \n",
    "fig.set_axis_labels(x_var='流量', y_var='数量')\n",
    "fig.savefig('分面图形2.png')   "
   ]
  },
  {
   "cell_type": "code",
   "execution_count": 15,
   "id": "55ba87fe",
   "metadata": {},
   "outputs": [
    {
     "name": "stderr",
     "output_type": "stream",
     "text": [
      "D:\\Anaconda3\\envs\\Python37\\lib\\site-packages\\ipykernel_launcher.py:19: UserWarning: FixedFormatter should only be used together with FixedLocator\n"
     ]
    }
   ],
   "source": [
    "#%%\n",
    "fig = plt.figure(figsize=(10,10))    \n",
    "ax1 = plt.subplot(2,2,1)    \n",
    "ax2 = plt.subplot(2,2,2)    \n",
    "ax3 = plt.subplot(2,1,2)    \n",
    "f1 = sns.countplot(x='volume_CATE', data=data[data['stop_or_not']==0],     \n",
    "                   color='#1f77b4', ax=ax1)    \n",
    "f1.set_xticklabels(volume, rotation=45, fontsize=15)    \n",
    "f1.set_title('停车次数为0', fontsize=20)    \n",
    "f1.set_xlabel('流量', fontsize=20)    \n",
    "f1.set_ylabel('数量', fontsize=20)    \n",
    "f2 = sns.countplot(x='volume_CATE', data=data[data['stop_or_not']==1],     \n",
    "                   color='#1f77b4', ax=ax2)    \n",
    "f2.set_xticklabels(volume, rotation=45, fontsize=13)    \n",
    "f2.set_title('停车次数不为0', fontsize=20)    \n",
    "f2.set_xlabel('流量', fontsize=20)    \n",
    "f2.set_ylabel('数量', fontsize=20)    \n",
    "ax3.scatter(data['aveSpeed'], data['volume'], alpha=0.2)    \n",
    "ax3.set_xticklabels(x, fontsize=18)    \n",
    "ax3.set_xlabel('平均速度', fontsize=20)    \n",
    "ax3.set_ylabel('流量', fontsize=20)    \n",
    "ax3.set_title('平均速度-流量图', fontsize=20)    \n",
    "fig.tight_layout(w_pad=0.5, h_pad=2)    \n",
    "fig.savefig('分面图形2.png')"
   ]
  },
  {
   "cell_type": "code",
   "execution_count": 16,
   "id": "f962e2c5",
   "metadata": {},
   "outputs": [],
   "source": [
    "from mpl_toolkits.mplot3d import Axes3D\n",
    "fig = plt.figure(figsize=(10,8))  \n",
    "ax = fig.gca(projection='3d') \n",
    "data_1 = data[data['stop_or_not']==0]  \n",
    "data_0 = data[data['stop_or_not']==1]  \n",
    "ax.scatter(data_1['volume'], data_1['aveSpeed'], data_1['gridAcc'], label='1')  \n",
    "ax.scatter(data_0['volume'], data_0['aveSpeed'], data_0['gridAcc'], label='0')  \n",
    "ax.set_xlabel('流量', labelpad=15, fontsize=20)  \n",
    "ax.set_ylabel('平均速度', labelpad=15, fontsize=20)  \n",
    "ax.set_zlabel('平均加速度', labelpad=15, fontsize=20)  \n",
    "ax.legend(['停车次数为0', '停车次数不为0'], loc='upper right', fontsize=20)  \n",
    "fig.savefig('3d.png', dpi=300) "
   ]
  },
  {
   "cell_type": "code",
   "execution_count": 17,
   "id": "d71e116f",
   "metadata": {},
   "outputs": [],
   "source": [
    "fig = plt.figure(figsize=(10,8))    \n",
    "ax = fig.gca(projection='3d')    \n",
    "X = np.arange(-2, 2, 0.1)    \n",
    "Y = np.arange(-2, 2, 0.1)    \n",
    "X, Y = np.meshgrid(X, Y)    \n",
    "Z = np.sqrt(X**2 + Y**2)    \n",
    "ax.plot_surface(X, Y, Z, cmap=plt.cm.winter)    \n",
    "ax.set_xlabel('X', labelpad=15, fontsize=20)    \n",
    "ax.set_ylabel('Y', labelpad=15, fontsize=20)    \n",
    "ax.set_zlabel('Z', labelpad=15, fontsize=20) \n",
    "ax.xaxis.set_tick_params(labelsize=16)\n",
    "ax.yaxis.set_tick_params(labelsize=16)\n",
    "ax.zaxis.set_tick_params(labelsize=16)\n",
    "fig.savefig('3d2.png')"
   ]
  },
  {
   "cell_type": "code",
   "execution_count": 20,
   "id": "d7a1350d",
   "metadata": {},
   "outputs": [
    {
     "name": "stdout",
     "output_type": "stream",
     "text": [
      "Collecting bokeh"
     ]
    },
    {
     "name": "stderr",
     "output_type": "stream",
     "text": [
      "WARNING: Retrying (Retry(total=4, connect=None, read=None, redirect=None, status=None)) after connection broken by 'ReadTimeoutError(\"HTTPSConnectionPool(host='pypi.org', port=443): Read timed out. (read timeout=15)\")': /simple/typing-extensions/\n",
      "ERROR: pip's dependency resolver does not currently take into account all the packages that are installed. This behaviour is the source of the following dependency conflicts.\n",
      "chainer 6.3.0 requires typing<=3.6.6, which is not installed.\n",
      "chainer 6.3.0 requires protobuf<3.8.0rc1,>=3.0.0, but you have protobuf 3.14.0 which is incompatible.\n",
      "chainer 6.3.0 requires typing-extensions<=3.6.6, but you have typing-extensions 3.10.0.2 which is incompatible.\n",
      "aiohttp 3.6.3 requires yarl<1.6.0,>=1.0, but you have yarl 1.6.3 which is incompatible.\n"
     ]
    },
    {
     "name": "stdout",
     "output_type": "stream",
     "text": [
      "\n",
      "  Downloading bokeh-2.4.0-py3-none-any.whl (18.4 MB)\n",
      "Requirement already satisfied: tornado>=5.1 in d:\\anaconda3\\envs\\python37\\lib\\site-packages (from bokeh) (6.1)\n",
      "Requirement already satisfied: numpy>=1.11.3 in d:\\anaconda3\\envs\\python37\\lib\\site-packages (from bokeh) (1.19.2)\n",
      "Requirement already satisfied: PyYAML>=3.10 in d:\\anaconda3\\envs\\python37\\lib\\site-packages (from bokeh) (5.4.1)\n",
      "Requirement already satisfied: pillow>=7.1.0 in d:\\anaconda3\\envs\\python37\\lib\\site-packages (from bokeh) (8.0.1)\n",
      "Requirement already satisfied: Jinja2>=2.9 in d:\\anaconda3\\envs\\python37\\lib\\site-packages (from bokeh) (3.0.1)\n",
      "Requirement already satisfied: packaging>=16.8 in d:\\anaconda3\\envs\\python37\\lib\\site-packages (from bokeh) (21.0)\n",
      "Requirement already satisfied: MarkupSafe>=2.0 in d:\\anaconda3\\envs\\python37\\lib\\site-packages (from Jinja2>=2.9->bokeh) (2.0.1)\n",
      "Requirement already satisfied: pyparsing>=2.0.2 in d:\\anaconda3\\envs\\python37\\lib\\site-packages (from packaging>=16.8->bokeh) (2.4.7)\n",
      "Collecting typing-extensions>=3.10.0\n",
      "  Downloading typing_extensions-3.10.0.2-py3-none-any.whl (26 kB)\n",
      "Installing collected packages: typing-extensions, bokeh\n",
      "  Attempting uninstall: typing-extensions\n",
      "    Found existing installation: typing-extensions 3.7.4.3\n",
      "    Uninstalling typing-extensions-3.7.4.3:\n",
      "      Successfully uninstalled typing-extensions-3.7.4.3\n",
      "Successfully installed bokeh-2.4.0 typing-extensions-3.10.0.2\n"
     ]
    }
   ],
   "source": [
    "!pip install bokeh"
   ]
  },
  {
   "cell_type": "code",
   "execution_count": 1,
   "id": "262ebef4",
   "metadata": {},
   "outputs": [
    {
     "name": "stderr",
     "output_type": "stream",
     "text": [
      "BokehDeprecationWarning: 'legend' keyword is deprecated, use explicit 'legend_label', 'legend_field', or 'legend_group' keywords instead\n",
      "BokehDeprecationWarning: 'legend' keyword is deprecated, use explicit 'legend_label', 'legend_field', or 'legend_group' keywords instead\n",
      "BokehDeprecationWarning: 'legend' keyword is deprecated, use explicit 'legend_label', 'legend_field', or 'legend_group' keywords instead\n"
     ]
    }
   ],
   "source": [
    "from bokeh.plotting import figure  \n",
    "from bokeh.io import output_notebook, show\n",
    "import numpy as np\n",
    "import pandas as pd \n",
    "data_all = pd.read_csv('DATASET-B.csv')  \n",
    "data_20161101_02 = data_all[(data_all['date']==20161101) | (data_all['date']==20161102)]    \n",
    "data = data_20161101_02[(data_20161101_02['date']==20161101) & (data_20161101_02['time_id']==50)]    \n",
    "data = data.reset_index(drop=True)\n",
    "data['stop_or_not'] = data['stopNum'].apply(lambda x: 0 if x==0 else 1)   \n",
    "data['volume_CATE'] = data['volume']//5 \n",
    "grouped = data.groupby('volume_CATE')  \n",
    "speed = grouped.aveSpeed\n",
    "stop = list(grouped.groups) \n",
    "avg, std = speed.mean(), speed.std()  \n",
    "stop_0 = data[data['stop_or_not']==0]  \n",
    "stop_1 = data[data['stop_or_not']==1]  \n",
    "p = figure(x_axis_label='流量', y_axis_label='速度')  \n",
    "p.vbar(x=stop, bottom=avg-std, top=avg+std, width=0.8,   \n",
    "       fill_alpha=0.2, line_color=None, legend=\"平均速度 标准差\")  \n",
    "p.circle(x=stop_0[\"volume_CATE\"], y=stop_0[\"aveSpeed\"], size=5, alpha=0.8,  \n",
    "        color=(73,132,175), legend=\"停车次数为0\")  \n",
    "p.square(x=stop_1[\"volume_CATE\"], y=stop_1[\"aveSpeed\"], size=5, alpha=0.8,  \n",
    "        color=(255,132,23), legend=\"停车次数不为0\")  \n",
    "p.legend.location = \"top_left\"  \n",
    "show(p)"
   ]
  },
  {
   "cell_type": "code",
   "execution_count": 2,
   "id": "9397aa92",
   "metadata": {},
   "outputs": [
    {
     "name": "stderr",
     "output_type": "stream",
     "text": [
      "BokehDeprecationWarning: 'legend' keyword is deprecated, use explicit 'legend_label', 'legend_field', or 'legend_group' keywords instead\n",
      "BokehDeprecationWarning: 'legend' keyword is deprecated, use explicit 'legend_label', 'legend_field', or 'legend_group' keywords instead\n"
     ]
    }
   ],
   "source": [
    "y1 = data_20161101_02[data_20161101_02['date']==20161101].groupby('time_id')['aveSpeed'].mean()  \n",
    "y2 = data_20161101_02[data_20161101_02['date']==20161102].groupby('time_id')['aveSpeed'].mean()  \n",
    "x = np.arange(1,145)\n",
    "p = figure(title='20161101和20161102平均速度时变图', plot_width=500, plot_height=300, x_axis_label='时间', y_axis_label='平均速度')  \n",
    "p.line(x, y1, legend=\"2016/11/01\", color=(73,132,175), line_width=3)  \n",
    "p.line(x, y2, legend=\"2016/11/02\", color=(255,132,23), line_width=3)  \n",
    "p.legend.location = \"top_right\"  \n",
    "show(p)  "
   ]
  },
  {
   "cell_type": "code",
   "execution_count": null,
   "id": "3ac0dabb",
   "metadata": {},
   "outputs": [],
   "source": []
  }
 ],
 "metadata": {
  "kernelspec": {
   "display_name": "Python 3",
   "language": "python",
   "name": "python3"
  },
  "language_info": {
   "codemirror_mode": {
    "name": "ipython",
    "version": 3
   },
   "file_extension": ".py",
   "mimetype": "text/x-python",
   "name": "python",
   "nbconvert_exporter": "python",
   "pygments_lexer": "ipython3",
   "version": "3.7.9"
  }
 },
 "nbformat": 4,
 "nbformat_minor": 5
}
