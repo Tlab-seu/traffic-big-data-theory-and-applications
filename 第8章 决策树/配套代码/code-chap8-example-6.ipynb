{
 "cells": [
  {
   "cell_type": "code",
   "execution_count": 1,
   "metadata": {},
   "outputs": [],
   "source": [
    "import pandas as pd\n",
    "from math import log\n",
    "def cal_Ent(data):\n",
    "    sample_size = len(data)  # 样本数\n",
    "    labelCounts = {}   # 创建字典，key是交通状态类别，value是属于该类别的样本个数\n",
    "    for index,data in data.iterrows(): # 遍历整个数据集，每次取一行\n",
    "        currentLabel = data['交通状态']  #取标签的值\n",
    "        if currentLabel not in labelCounts.keys(): labelCounts[currentLabel] = 0\n",
    "        labelCounts[currentLabel] += 1\n",
    "    Ent = 0.0  # 初始化信息熵\n",
    "    for key in labelCounts:\n",
    "        prob = float(labelCounts[key])/sample_size\n",
    "        Ent -= prob * log(prob,2) #计算信息熵\n",
    "    return Ent\n",
    "#连续特征处理\n",
    "def splitDataSet_c(dataSet, name, value, LorR='L'):\n",
    "    retDataSet = []\n",
    "    featVec = []\n",
    "    if LorR == 'L':\n",
    "        retDataSet=dataSet.loc[dataSet[name]<value].drop(name,axis=1)\n",
    "    else:\n",
    "        retDataSet=dataSet.loc[dataSet[name]>value].drop(name,axis=1)\n",
    "    return retDataSet"
   ]
  },
  {
   "cell_type": "code",
   "execution_count": 2,
   "metadata": {},
   "outputs": [],
   "source": [
    "def chooseBestFeatureToSplit_c(dataSet):\n",
    "    baseEntropy = cal_Ent(dataSet)  # 计算根节点的信息熵\n",
    "    bestInfoGain = 0.0\n",
    "    bestFeature = -1\n",
    "    bestPartValue = None  # 连续的特征值，最佳划分值\n",
    "    for name in dataset.columns[:-2]:#取平均速度和流量两个特征\n",
    "        uniqueVals=set(dataset[name])# 获取当前特征的所有可能取值\n",
    "        newEntropy = 0.0\n",
    "        bestPartValuei = None\n",
    "        sortedUniqueVals = list(uniqueVals)  # 对特征值排序\n",
    "        sortedUniqueVals.sort()\n",
    "        listPartition = []\n",
    "        minEntropy = float(\"inf\")\n",
    "        print(len(sortedUniqueVals))\n",
    "        for j in range(len(sortedUniqueVals) - 1): \n",
    "            partValue = (float(sortedUniqueVals[j]) + float(sortedUniqueVals[j + 1]))/2 #计算划分点\n",
    "            dataSetLeft = splitDataSet_c(dataSet, name, partValue, 'L')\n",
    "            dataSetRight = splitDataSet_c(dataSet, name, partValue, 'R')\n",
    "            probLeft = len(dataSetLeft) / float(len(dataSet))\n",
    "            probRight = len(dataSetRight) / float(len(dataSet))\n",
    "            Entropy = probLeft * cal_Ent(dataSetLeft) + probRight * cal_Ent(dataSetRight)#计算信息熵\n",
    "            print(name,partValue,baseEntropy,cal_Ent(dataSetLeft),cal_Ent(dataSetRight),baseEntropy - Entropy)\n",
    "#             print(name,partValue,baseEntropy - Entropy)\n",
    "\n",
    "            if Entropy < minEntropy:  # 取最小的信息熵\n",
    "                minEntropy = Entropy\n",
    "                bestPartValuei = partValue\n",
    "            newEntropy = minEntropy\n",
    "            infoGain = baseEntropy - newEntropy  # 计算信息增益\n",
    "        if infoGain > bestInfoGain:  # 取最大的信息增益对应的特征\n",
    "            bestInfoGain = infoGain\n",
    "            bestFeature = name\n",
    "            bestPartValue = bestPartValuei\n",
    "    return bestFeature, bestPartValue"
   ]
  },
  {
   "cell_type": "code",
   "execution_count": 3,
   "metadata": {},
   "outputs": [
    {
     "name": "stdout",
     "output_type": "stream",
     "text": [
      "19\n",
      "平均速度 4.75 1.5709505944546684 0.0 1.5574319619297041 0.09139023062144958\n",
      "平均速度 5.609999999999999 1.5709505944546684 1.0 1.5466316153937778 0.0789821406002682\n",
      "平均速度 5.945 1.5709505944546684 0.9182958340544896 1.5221898721658214 0.13934482800554693\n",
      "平均速度 6.220000000000001 1.5709505944546684 0.8112781244591328 1.4772170014624826 0.2269213683928557\n",
      "平均速度 6.43 1.5709505944546684 0.7219280948873623 1.3995812306460644 0.3407826477482796\n",
      "平均速度 6.73 1.5709505944546684 0.9182958340544896 1.3787834934861758 0.3303133987979987\n",
      "平均速度 7.005 1.5709505944546684 0.9852281360342516 1.3346791410515948 0.3585793051591437\n",
      "平均速度 7.92 1.5709505944546684 0.9544340029249649 1.188721875540867 0.4759438679601622\n",
      "平均速度 9.08 1.5709505944546684 0.9910760598382222 1.0957952550009338 0.5222789772769547\n",
      "平均速度 10.02 1.5709505944546684 0.9709505944546686 0.7219280948873623 0.724511249783653\n",
      "平均速度 10.835 1.5709505944546684 0.9940302114769565 0.5032583347756457 0.7977677274933017\n",
      "平均速度 11.29 1.5709505944546684 1.0 0.0 0.9709505944546685\n",
      "平均速度 11.75 1.5709505944546684 1.3143204867061788 0.0 0.7166422780956522\n",
      "平均速度 12.09 1.5709505944546684 1.4488156357251847 0.0 0.5567796494470392\n",
      "平均速度 13.43 1.5709505944546684 1.5219280948873621 0.0 0.4295045232891468\n",
      "平均速度 15.04 1.5709505944546684 1.5612781244591325 0.0 0.3219280948873624\n",
      "平均速度 15.43 1.5709505944546684 1.5798634010685344 0.0 0.22806670354641434\n",
      "平均速度 15.754999999999999 1.5709505944546684 1.584962500721156 0.0 0.14448434380562802\n",
      "13\n",
      "流量 2.5 1.5709505944546684 0.0 1.5810309627563695 0.06897117983611745\n",
      "流量 3.5 1.5709505944546684 0.9182958340544896 1.548565226030918 0.1169257772202148\n",
      "流量 4.5 1.5709505944546684 1.0 1.5612781244591327 0.12192809488736223\n",
      "流量 5.5 1.5709505944546684 1.4591479170272448 1.5306189948485172 0.061772922952533005\n",
      "流量 6.5 1.5709505944546684 1.5 1.4591479170272448 0.09546184423832149\n",
      "流量 7.5 1.5709505944546684 1.5304930567574826 1.4353713907745331 0.09277445398780815\n",
      "流量 8.5 1.5709505944546684 1.5219280948873621 1.3709505944546687 0.12451124978365291\n",
      "流量 9.5 1.5709505944546684 1.4949188482339508 1.224394445405986 0.19776772749330163\n",
      "流量 11.0 1.5709505944546684 1.4591479170272448 0.8112781244591328 0.3709505944546685\n",
      "流量 13.5 1.5709505944546684 1.5262349099495225 0.863120568566631 0.27680570398915805\n",
      "流量 15.5 1.5709505944546684 1.565596230357602 0.7219280948873623 0.21627139796462647\n",
      "流量 18.5 1.5709505944546684 1.5794340029249652 0.8112781244591328 0.1451477672228696\n",
      "('平均速度', 11.29)\n"
     ]
    }
   ],
   "source": [
    "dataset=pd.read_csv('example8-2.csv',encoding='gbk')\n",
    "print(chooseBestFeatureToSplit_c(dataset))"
   ]
  },
  {
   "cell_type": "code",
   "execution_count": null,
   "metadata": {},
   "outputs": [],
   "source": []
  }
 ],
 "metadata": {
  "kernelspec": {
   "display_name": "Python 3",
   "language": "python",
   "name": "python3"
  },
  "language_info": {
   "codemirror_mode": {
    "name": "ipython",
    "version": 3
   },
   "file_extension": ".py",
   "mimetype": "text/x-python",
   "name": "python",
   "nbconvert_exporter": "python",
   "pygments_lexer": "ipython3",
   "version": "3.6.3"
  }
 },
 "nbformat": 4,
 "nbformat_minor": 2
}
