{
 "cells": [
  {
   "cell_type": "code",
   "execution_count": 1,
   "metadata": {},
   "outputs": [
    {
     "name": "stdout",
     "output_type": "stream",
     "text": [
      "1.5709505944546684\n"
     ]
    }
   ],
   "source": [
    "#!/usr/bin/python\n",
    "#encoding:utf-8\n",
    "\n",
    "from math import log\n",
    "import pandas as pd\n",
    "from operator import itemgetter\n",
    "def cal_Ent(data):\n",
    "    sample_size = len(data)  # 样本数\n",
    "    labelCounts = {}   # 创建字典，key是交通状态类别，value是属于该类别的样本个数\n",
    "    for index,data in data.iterrows(): # 遍历整个数据集，每次取一行\n",
    "        currentLabel = data['交通状态']  #取标签的值\n",
    "        if currentLabel not in labelCounts.keys(): labelCounts[currentLabel] = 0\n",
    "        labelCounts[currentLabel] += 1\n",
    "    Ent = 0.0  # 初始化信息熵\n",
    "    for key in labelCounts:\n",
    "        prob = float(labelCounts[key])/sample_size\n",
    "        Ent -= prob * log(prob,2) #计算信息熵\n",
    "    return Ent\n",
    "dataset=pd.read_csv('example8-1.csv',encoding='gbk')\n",
    "print(cal_Ent(dataset))"
   ]
  },
  {
   "cell_type": "code",
   "execution_count": 4,
   "metadata": {},
   "outputs": [],
   "source": [
    "def splitDataSet(data,name, value): \n",
    "    reducedFeatVec=data.loc[data[name]==value].drop(name,axis=1)#抽取按name的当前value特征进划分的数据集\n",
    "    return reducedFeatVec"
   ]
  },
  {
   "cell_type": "code",
   "execution_count": 2,
   "metadata": {},
   "outputs": [],
   "source": [
    "def chooseBestFeatureToSplit(dataset):\n",
    "    baseEntropy = cal_Ent(dataset)  #计算当前数据集的信息熵\n",
    "    bestInfoGain = 0.0 #初始化最优信息增益和最优的特征\n",
    "    bestFeature = -1\n",
    "    for name in dataset.columns[:-1]:\n",
    "        uniquevals=set(dataset[name])# 获取当前特征的所有可能取值\n",
    "        newEntropy = 0.0\n",
    "        for value in uniquevals:#计算每种划分方式的信息熵\n",
    "            subDataSet=splitDataSet(dataset,name,value)\n",
    "            prob = len(subDataSet)/float(len(dataset))\n",
    "            newEntropy += prob * cal_Ent(subDataSet)\n",
    "        infoGain = baseEntropy - newEntropy #计算信息增益\n",
    "        print(name,newEntropy)\n",
    "        if (infoGain >=bestInfoGain):     #比较每个特征的信息增益，只要最好的信息增益\n",
    "            bestInfoGain = infoGain\n",
    "            bestFeature = name\n",
    "    return bestFeature"
   ]
  },
  {
   "cell_type": "code",
   "execution_count": 5,
   "metadata": {},
   "outputs": [
    {
     "name": "stdout",
     "output_type": "stream",
     "text": [
      "平均速度 0.7846664217184822\n",
      "流量 1.452269077880839\n",
      "是否停车 1.09769411674502\n",
      "平均速度\n"
     ]
    }
   ],
   "source": [
    "print(chooseBestFeatureToSplit(dataset))"
   ]
  },
  {
   "cell_type": "code",
   "execution_count": null,
   "metadata": {},
   "outputs": [],
   "source": []
  }
 ],
 "metadata": {
  "kernelspec": {
   "display_name": "Python 3",
   "language": "python",
   "name": "python3"
  },
  "language_info": {
   "codemirror_mode": {
    "name": "ipython",
    "version": 3
   },
   "file_extension": ".py",
   "mimetype": "text/x-python",
   "name": "python",
   "nbconvert_exporter": "python",
   "pygments_lexer": "ipython3",
   "version": "3.6.3"
  }
 },
 "nbformat": 4,
 "nbformat_minor": 2
}
