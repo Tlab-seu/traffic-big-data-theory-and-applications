{
 "cells": [
  {
   "cell_type": "code",
   "execution_count": 1,
   "metadata": {},
   "outputs": [],
   "source": [
    "import os\n",
    "os.environ[\"PATH\"] += os.pathsep + 'D:/Graphviz/bin/'  #注意修改为安装Graphviz的路径\n",
    "import numpy as np\n",
    "import pandas as pd\n",
    "from sklearn import tree\n",
    "from sklearn.tree import DecisionTreeClassifier\n",
    "import pydotplus"
   ]
  },
  {
   "cell_type": "code",
   "execution_count": 2,
   "metadata": {},
   "outputs": [],
   "source": [
    "data=pd.read_csv('example8-2.csv',encoding='gbk')\n",
    "x1=data['平均速度']\n",
    "x2=data['流量']\n",
    "x3=pd.Categorical(data['是否停车']).codes\n",
    "x=np.stack((x1,x2),axis=1)\n",
    "y=pd.Categorical(data['交通状态']).codes\n",
    "model = DecisionTreeClassifier(criterion='gini')\n",
    "model.fit(x, y)\n",
    "traffic_feature_E = 'speed_class','volume_class'\n",
    "label = 'congestion', 'smooth','amble'"
   ]
  },
  {
   "cell_type": "code",
   "execution_count": 3,
   "metadata": {},
   "outputs": [],
   "source": [
    "with open('traffic_condition.dot','w') as f: \n",
    "    tree.export_graphviz(model, out_file=f)\n",
    "    dot_data = tree.export_graphviz(model, out_file=None, \n",
    "                                    feature_names=traffic_feature_E, \n",
    "                                    class_names=label,\n",
    "                                    filled=True, rounded=True, \n",
    "                                    special_characters=True)\n",
    "    graph = pydotplus.graph_from_dot_data(dot_data)\n",
    "    f = open('traffic_condition_decision_tree.png', 'wb')\n",
    "    f.write(graph.create_png())\n",
    "    f.close()"
   ]
  },
  {
   "cell_type": "code",
   "execution_count": null,
   "metadata": {},
   "outputs": [],
   "source": []
  }
 ],
 "metadata": {
  "kernelspec": {
   "display_name": "Python 3",
   "language": "python",
   "name": "python3"
  },
  "language_info": {
   "codemirror_mode": {
    "name": "ipython",
    "version": 3
   },
   "file_extension": ".py",
   "mimetype": "text/x-python",
   "name": "python",
   "nbconvert_exporter": "python",
   "pygments_lexer": "ipython3",
   "version": "3.6.3"
  }
 },
 "nbformat": 4,
 "nbformat_minor": 2
}
