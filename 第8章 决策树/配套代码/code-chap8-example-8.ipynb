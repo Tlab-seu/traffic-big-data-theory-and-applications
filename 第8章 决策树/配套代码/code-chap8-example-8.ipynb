{
 "cells": [
  {
   "cell_type": "code",
   "execution_count": 1,
   "metadata": {},
   "outputs": [],
   "source": [
    "import numpy as np\n",
    "import pandas as pd\n",
    "import matplotlib.pyplot as plt\n",
    "import matplotlib as mpl\n",
    "from sklearn import tree\n",
    "from sklearn.tree import DecisionTreeClassifier\n",
    "from sklearn.model_selection import train_test_split\n",
    "import pydotplus\n",
    "from sklearn import preprocessing"
   ]
  },
  {
   "cell_type": "code",
   "execution_count": null,
   "metadata": {},
   "outputs": [],
   "source": [
    "# 数据文件路径\n",
    "data = pd.read_csv('DATASET-B.csv',nrows=200000)\n",
    "x = data[['aveSpeed','stopNum','volume','speed_std']]\n",
    "y = pd.Categorical(data['labels']).codes\n",
    "x_train, x_test, y_train, y_test = train_test_split(x, y, train_size=0.7,random_state=1)\n",
    "\n",
    "# 决策树参数估计\n",
    "model = DecisionTreeClassifier(criterion='gini', min_samples_split=10,\n",
    "                               min_samples_leaf=40,max_depth=10,\n",
    "                               class_weight='balanced')\n",
    "model.fit(x_train, y_train)\n",
    "\n",
    "print(model.feature_importances_)"
   ]
  },
  {
   "cell_type": "code",
   "execution_count": null,
   "metadata": {},
   "outputs": [],
   "source": [
    "# 测试集上的预测结果\n",
    "y_test_hat = model.predict(x_test)# 测试数据\n",
    "y_test = y_test.reshape(-1)\n",
    "result = (y_test_hat == y_test)# True则预测正确，False则预测错误\n",
    "acc = np.mean(result)\n",
    "print('准确度: %.2f%%' % (100 * acc))"
   ]
  },
  {
   "cell_type": "code",
   "execution_count": null,
   "metadata": {},
   "outputs": [],
   "source": [
    "#画图\n",
    "import matplotlib.pyplot as plt\n",
    "import matplotlib as mpl\n",
    "mpl.rcParams['font.sans-serif'] = [u'SimHei']\n",
    "mpl.rcParams['axes.unicode_minus'] = False\n",
    "N, M = 50, 50  # 横纵各采样多少个值\n",
    "x1_min, x2_min,_ ,_  = x.min()\n",
    "x1_max, x2_max,_,_ = x.max()\n",
    "t1 = np.linspace(x1_min, x1_max, N)\n",
    "t2 = np.linspace(x2_min, x2_max, M)\n",
    "x1, x2 = np.meshgrid(t1, t2)  # 生成网格采样点\n",
    "x_show = np.stack((x1.flat, x2.flat), axis=1)  # 测试点\n",
    "model2 = DecisionTreeClassifier(criterion='gini', min_samples_split=10,\n",
    "                               min_samples_leaf=40,max_depth=10,\n",
    "                               class_weight='balanced')\n",
    "model2.fit(x_train[['aveSpeed','stopNum']],y_train)\n",
    "y_show_hat = model2.predict(x_show)  # 预测值\n",
    "y_show_hat = y_show_hat.reshape(x1.shape)  # 使之与输入的形状相同\n",
    "# 随机选取 2000个样本点  \n",
    "sample_plot_idx = np.random.choice(x_test.shape[0],size=2000,replace=False) \n",
    "x_test1=x_test.iloc[sample_plot_idx]\n",
    "y_test1=y_test[sample_plot_idx]\n",
    "plt.figure(facecolor='w',dpi=300)\n",
    "plt.pcolormesh(x1, x2, y_show_hat, alpha=0.1)  # 预测值的显示\n",
    "condition=['畅通','缓行','拥堵']\n",
    "color=['purple','green','yellow']\n",
    "for index in range(3):\n",
    "    plot_idx=np.where(y_test1==index)\n",
    "    plt.scatter(x_test1.iloc[plot_idx]['aveSpeed'],x_test1.iloc[plot_idx]['stopNum'],c=color[index],edgecolors='k',s=20, zorder=10,label=condition[index]) \n",
    "\n",
    "plt.xlabel(u'速度(m/s)', fontsize=12)\n",
    "plt.ylabel( u'平均停车次数', fontsize=12)\n",
    "plt.xlim(x1_min-0.3, x1_max+0.3)\n",
    "plt.ylim(x2_min-0.1, x2_max+0.1)\n",
    "plt.title(u'道路交通状态的决策树分类', fontsize=12)\n",
    "plt.legend()\n",
    "plt.savefig('result.jpg')\n",
    "plt.show()"
   ]
  }
 ],
 "metadata": {
  "kernelspec": {
   "display_name": "Python 3",
   "language": "python",
   "name": "python3"
  },
  "language_info": {
   "codemirror_mode": {
    "name": "ipython",
    "version": 3
   },
   "file_extension": ".py",
   "mimetype": "text/x-python",
   "name": "python",
   "nbconvert_exporter": "python",
   "pygments_lexer": "ipython3",
   "version": "3.6.6"
  }
 },
 "nbformat": 4,
 "nbformat_minor": 2
}
